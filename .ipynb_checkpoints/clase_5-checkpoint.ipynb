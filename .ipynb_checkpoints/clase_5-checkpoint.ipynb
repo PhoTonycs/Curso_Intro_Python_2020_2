{
 "cells": [
  {
   "cell_type": "markdown",
   "metadata": {},
   "source": [
    "# Clase 5\n",
    "\n",
    "## Ecuaciones lineales\n",
    "\n",
    "De álgebra lineal sabemos que existen tres tipos de sistemas de ecuaciones:\n",
    "\n",
    "- Los que tienen una única solución (No singular y consistente).\n",
    "- Los que no tienen solución (Singular y no consistente).\n",
    "- Los que tienen infinitas soluciones (Dependientes o singulares).\n",
    "\n",
    "Para hallar las soluciones de estos sistemas (en caso de existir) tenemos el método **linalg.solve(matrix_coef,matrix_sol)** del módulo de **numpy** donde\n",
    "\n",
    "- **matrix_coef** = matriz de coeficientes.\n",
    "- **matrix_sol** = matriz con la soluciones del sistema.\n",
    "\n",
    "Veamos un ejemplo con cada tipo de sistema.\n",
    "\n",
    "### No Singular\n",
    "\n",
    "Consideremos la siguiente matriz $2\\times 2$ de la forma $AX = B$ donde $A$ es la matriz de coeficiente, $X$ la matriz de las constantes a hallar ($x_{1}$ y $x_{2}$ en este caso) y $B$ la matriz con las solcuiones\n",
    "\n",
    "$$\n",
    "\\begin{array}{ccc}\n",
    "2x_{1} & 7x_{2} & = \\, 1 \\\\\n",
    "5x_{1} & -8x_{2} & = \\, -4 \n",
    "\\end{array}\n",
    "$$"
   ]
  },
  {
   "cell_type": "code",
   "execution_count": 5,
   "metadata": {},
   "outputs": [
    {
     "name": "stdout",
     "output_type": "stream",
     "text": [
      "Requirement already satisfied: numpy in /srv/conda/envs/notebook/lib/python3.7/site-packages (1.19.1)\r\n"
     ]
    }
   ],
   "source": [
    "!pip install numpy\n",
    "import numpy as np"
   ]
  },
  {
   "cell_type": "code",
   "execution_count": 13,
   "metadata": {},
   "outputs": [],
   "source": [
    "A_ns = np.array([[2, 7], \n",
    "              [5, -8]])\n",
    "B_ns = np.array([1,-4])"
   ]
  },
  {
   "cell_type": "code",
   "execution_count": 14,
   "metadata": {},
   "outputs": [
    {
     "name": "stdout",
     "output_type": "stream",
     "text": [
      "[-0.39215686  0.25490196]\n"
     ]
    }
   ],
   "source": [
    "X_ns = np.linalg.solve(A_ns,B_ns)\n",
    "print(X_ns)"
   ]
  },
  {
   "cell_type": "markdown",
   "metadata": {},
   "source": [
    "Verifiquemos que sea el resultado correcto"
   ]
  },
  {
   "cell_type": "code",
   "execution_count": 15,
   "metadata": {},
   "outputs": [
    {
     "data": {
      "text/plain": [
       "array([ 1., -4.])"
      ]
     },
     "execution_count": 15,
     "metadata": {},
     "output_type": "execute_result"
    }
   ],
   "source": [
    "A_ns@X_ns"
   ]
  },
  {
   "cell_type": "markdown",
   "metadata": {},
   "source": [
    "Vemos que la solución es la correcta"
   ]
  },
  {
   "cell_type": "markdown",
   "metadata": {},
   "source": [
    "### Dependiente\n",
    "\n",
    "Creemos un vector que sea combinación lineal del otro vector, en este caso, el segundo sistema será sólo una multiplicación del primer sistema\n",
    "\n",
    "$$\n",
    "\\begin{array}{ccc}\n",
    "2x_{1} & 4x_{2} & = \\, 6 \\\\\n",
    "1x_{1} & 2x_{2} & = \\, 3 \n",
    "\\end{array}\n",
    "$$"
   ]
  },
  {
   "cell_type": "code",
   "execution_count": 16,
   "metadata": {},
   "outputs": [],
   "source": [
    "A_d = np.array([[2, 4], \n",
    "               [1, 2]])\n",
    "B_d = np.array([6, 3])"
   ]
  },
  {
   "cell_type": "code",
   "execution_count": 17,
   "metadata": {},
   "outputs": [
    {
     "ename": "LinAlgError",
     "evalue": "Singular matrix",
     "output_type": "error",
     "traceback": [
      "\u001b[0;31m---------------------------------------------------------------------------\u001b[0m",
      "\u001b[0;31mLinAlgError\u001b[0m                               Traceback (most recent call last)",
      "\u001b[0;32m<ipython-input-17-b7b14b1b5192>\u001b[0m in \u001b[0;36m<module>\u001b[0;34m\u001b[0m\n\u001b[0;32m----> 1\u001b[0;31m \u001b[0mX_d\u001b[0m \u001b[0;34m=\u001b[0m \u001b[0mnp\u001b[0m\u001b[0;34m.\u001b[0m\u001b[0mlinalg\u001b[0m\u001b[0;34m.\u001b[0m\u001b[0msolve\u001b[0m\u001b[0;34m(\u001b[0m\u001b[0mA_d\u001b[0m\u001b[0;34m,\u001b[0m\u001b[0mB_d\u001b[0m\u001b[0;34m)\u001b[0m\u001b[0;34m\u001b[0m\u001b[0;34m\u001b[0m\u001b[0m\n\u001b[0m\u001b[1;32m      2\u001b[0m \u001b[0mprint\u001b[0m\u001b[0;34m(\u001b[0m\u001b[0mX_d\u001b[0m\u001b[0;34m)\u001b[0m\u001b[0;34m\u001b[0m\u001b[0;34m\u001b[0m\u001b[0m\n",
      "\u001b[0;32m<__array_function__ internals>\u001b[0m in \u001b[0;36msolve\u001b[0;34m(*args, **kwargs)\u001b[0m\n",
      "\u001b[0;32m/srv/conda/envs/notebook/lib/python3.7/site-packages/numpy/linalg/linalg.py\u001b[0m in \u001b[0;36msolve\u001b[0;34m(a, b)\u001b[0m\n\u001b[1;32m    392\u001b[0m     \u001b[0msignature\u001b[0m \u001b[0;34m=\u001b[0m \u001b[0;34m'DD->D'\u001b[0m \u001b[0;32mif\u001b[0m \u001b[0misComplexType\u001b[0m\u001b[0;34m(\u001b[0m\u001b[0mt\u001b[0m\u001b[0;34m)\u001b[0m \u001b[0;32melse\u001b[0m \u001b[0;34m'dd->d'\u001b[0m\u001b[0;34m\u001b[0m\u001b[0;34m\u001b[0m\u001b[0m\n\u001b[1;32m    393\u001b[0m     \u001b[0mextobj\u001b[0m \u001b[0;34m=\u001b[0m \u001b[0mget_linalg_error_extobj\u001b[0m\u001b[0;34m(\u001b[0m\u001b[0m_raise_linalgerror_singular\u001b[0m\u001b[0;34m)\u001b[0m\u001b[0;34m\u001b[0m\u001b[0;34m\u001b[0m\u001b[0m\n\u001b[0;32m--> 394\u001b[0;31m     \u001b[0mr\u001b[0m \u001b[0;34m=\u001b[0m \u001b[0mgufunc\u001b[0m\u001b[0;34m(\u001b[0m\u001b[0ma\u001b[0m\u001b[0;34m,\u001b[0m \u001b[0mb\u001b[0m\u001b[0;34m,\u001b[0m \u001b[0msignature\u001b[0m\u001b[0;34m=\u001b[0m\u001b[0msignature\u001b[0m\u001b[0;34m,\u001b[0m \u001b[0mextobj\u001b[0m\u001b[0;34m=\u001b[0m\u001b[0mextobj\u001b[0m\u001b[0;34m)\u001b[0m\u001b[0;34m\u001b[0m\u001b[0;34m\u001b[0m\u001b[0m\n\u001b[0m\u001b[1;32m    395\u001b[0m \u001b[0;34m\u001b[0m\u001b[0m\n\u001b[1;32m    396\u001b[0m     \u001b[0;32mreturn\u001b[0m \u001b[0mwrap\u001b[0m\u001b[0;34m(\u001b[0m\u001b[0mr\u001b[0m\u001b[0;34m.\u001b[0m\u001b[0mastype\u001b[0m\u001b[0;34m(\u001b[0m\u001b[0mresult_t\u001b[0m\u001b[0;34m,\u001b[0m \u001b[0mcopy\u001b[0m\u001b[0;34m=\u001b[0m\u001b[0;32mFalse\u001b[0m\u001b[0;34m)\u001b[0m\u001b[0;34m)\u001b[0m\u001b[0;34m\u001b[0m\u001b[0;34m\u001b[0m\u001b[0m\n",
      "\u001b[0;32m/srv/conda/envs/notebook/lib/python3.7/site-packages/numpy/linalg/linalg.py\u001b[0m in \u001b[0;36m_raise_linalgerror_singular\u001b[0;34m(err, flag)\u001b[0m\n\u001b[1;32m     86\u001b[0m \u001b[0;34m\u001b[0m\u001b[0m\n\u001b[1;32m     87\u001b[0m \u001b[0;32mdef\u001b[0m \u001b[0m_raise_linalgerror_singular\u001b[0m\u001b[0;34m(\u001b[0m\u001b[0merr\u001b[0m\u001b[0;34m,\u001b[0m \u001b[0mflag\u001b[0m\u001b[0;34m)\u001b[0m\u001b[0;34m:\u001b[0m\u001b[0;34m\u001b[0m\u001b[0;34m\u001b[0m\u001b[0m\n\u001b[0;32m---> 88\u001b[0;31m     \u001b[0;32mraise\u001b[0m \u001b[0mLinAlgError\u001b[0m\u001b[0;34m(\u001b[0m\u001b[0;34m\"Singular matrix\"\u001b[0m\u001b[0;34m)\u001b[0m\u001b[0;34m\u001b[0m\u001b[0;34m\u001b[0m\u001b[0m\n\u001b[0m\u001b[1;32m     89\u001b[0m \u001b[0;34m\u001b[0m\u001b[0m\n\u001b[1;32m     90\u001b[0m \u001b[0;32mdef\u001b[0m \u001b[0m_raise_linalgerror_nonposdef\u001b[0m\u001b[0;34m(\u001b[0m\u001b[0merr\u001b[0m\u001b[0;34m,\u001b[0m \u001b[0mflag\u001b[0m\u001b[0;34m)\u001b[0m\u001b[0;34m:\u001b[0m\u001b[0;34m\u001b[0m\u001b[0;34m\u001b[0m\u001b[0m\n",
      "\u001b[0;31mLinAlgError\u001b[0m: Singular matrix"
     ]
    }
   ],
   "source": [
    "X_d = np.linalg.solve(A_d,B_d)\n",
    "print(X_d)"
   ]
  },
  {
   "cell_type": "markdown",
   "metadata": {},
   "source": [
    "Vemos que en efecto, el error nos dice que este sistema es singular por lo cual no nos dará una solución"
   ]
  },
  {
   "cell_type": "markdown",
   "metadata": {},
   "source": [
    "### Singular y  No Consistente\n",
    "\n",
    "De manera similar obtendremos el mismo resultado con el siguiente sistema\n",
    "\n",
    "\n",
    "$$\n",
    "\\begin{array}{ccc}\n",
    "2x_{1} & 4x_{2} & = \\, 6 \\\\\n",
    "1x_{1} & 2x_{2} & = \\, 7 \n",
    "\\end{array}\n",
    "$$"
   ]
  },
  {
   "cell_type": "markdown",
   "metadata": {},
   "source": [
    "## Funciones\n",
    "\n",
    "Podemos crear funciones en python con la siguiente sintaxis\n",
    "\n",
    "def function_name((parameter(s))):\n",
    "\n",
    "    body of the function\n",
    "    \n",
    "    (return output)\n",
    "    \n",
    "A diferencia de lengiajes primitivos, aquí no indicamos el interior de la función encerrandolo entre corchetes \"{ }\", Python lo hace con la identación.\n",
    "Como notamos en la sintaxis, las funciones pueden tener paramétros o no así como un valor a retornar como output.\n",
    "\n",
    "Para llamar las funciones sólo escribimos el nombre de la función con sus parámetros en caso de tenerlos.\n",
    "\n",
    "**_function_name((parameter(s)))_**\n",
    "\n",
    "\n",
    "\n",
    "### Sin parámetros ni output"
   ]
  },
  {
   "cell_type": "code",
   "execution_count": 3,
   "metadata": {},
   "outputs": [],
   "source": [
    "def saludo():\n",
    "    nombre = input(\"Introduce tu nombre \\n\")\n",
    "    print(\"Hola \" + str(nombre))"
   ]
  },
  {
   "cell_type": "markdown",
   "metadata": {},
   "source": [
    "Lamemos la función"
   ]
  },
  {
   "cell_type": "code",
   "execution_count": 4,
   "metadata": {},
   "outputs": [
    {
     "name": "stdout",
     "output_type": "stream",
     "text": [
      "Introduce tu nombre \n",
      "Tony\n",
      "Hola Tony\n"
     ]
    }
   ],
   "source": [
    "saludo()"
   ]
  },
  {
   "cell_type": "markdown",
   "metadata": {},
   "source": [
    "### Con parámetros pero sin output"
   ]
  },
  {
   "cell_type": "code",
   "execution_count": 35,
   "metadata": {},
   "outputs": [],
   "source": [
    "vec_1 = np.array([[1,-1,3]])\n",
    "vec_2 = np.array([[-1,1,3]])"
   ]
  },
  {
   "cell_type": "code",
   "execution_count": 44,
   "metadata": {},
   "outputs": [],
   "source": [
    "def prod_x(v_1 , v_2):\n",
    "    \n",
    "    if(len(v_1[0]) == len(v_2[0])):\n",
    "        sum = 0\n",
    "\n",
    "        for i in range(len(v_1[0])):\n",
    "            sum += v_1[0][i] + v_2[0][i]       \n",
    "    \n",
    "        print(sum)\n",
    "    \n",
    "    else:\n",
    "        print(\"Los vectores no son del mismo tamaño.\")"
   ]
  },
  {
   "cell_type": "code",
   "execution_count": 45,
   "metadata": {},
   "outputs": [
    {
     "name": "stdout",
     "output_type": "stream",
     "text": [
      "6\n"
     ]
    }
   ],
   "source": [
    "prod_x(vec_1 , vec_2)"
   ]
  },
  {
   "cell_type": "markdown",
   "metadata": {},
   "source": [
    "### Con parámetros y output\n",
    "\n",
    "Veamos cómo agregar un output a la anterior función"
   ]
  },
  {
   "cell_type": "code",
   "execution_count": 46,
   "metadata": {},
   "outputs": [],
   "source": [
    "def prod_x(v_1 , v_2):\n",
    "    \n",
    "    if(len(v_1[0]) == len(v_2[0])):\n",
    "        sum = 0\n",
    "\n",
    "        for i in range(len(v_1[0])):\n",
    "            sum += v_1[0][i] + v_2[0][i]       \n",
    "    \n",
    "        return sum\n",
    "        \n",
    "    else:\n",
    "        print(\"Los vectores no son del mismo tamaño.\")       "
   ]
  },
  {
   "cell_type": "code",
   "execution_count": 48,
   "metadata": {},
   "outputs": [
    {
     "name": "stdout",
     "output_type": "stream",
     "text": [
      "6\n"
     ]
    }
   ],
   "source": [
    "prod_punto = prod_x(vec_1 , vec_2)\n",
    "print(prod_punto)"
   ]
  }
 ],
 "metadata": {
  "kernelspec": {
   "display_name": "Python 3",
   "language": "python",
   "name": "python3"
  },
  "language_info": {
   "codemirror_mode": {
    "name": "ipython",
    "version": 3
   },
   "file_extension": ".py",
   "mimetype": "text/x-python",
   "name": "python",
   "nbconvert_exporter": "python",
   "pygments_lexer": "ipython3",
   "version": "3.7.8"
  }
 },
 "nbformat": 4,
 "nbformat_minor": 4
}
