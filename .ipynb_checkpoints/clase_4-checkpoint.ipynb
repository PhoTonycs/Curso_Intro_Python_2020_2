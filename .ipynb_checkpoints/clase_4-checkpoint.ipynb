{
 "cells": [
  {
   "cell_type": "markdown",
   "metadata": {},
   "source": [
    "## Arrays\n",
    "\n",
    "Este tipo de datos, a diferencia de los anteriores, necesitan del módulo **numpy** para crearlos. Estas estructuras son similares a las listas pero con la diferencia que necesitaremos el método **array** del módulo **numpy**. La sintaxis para crear un *array* es de la siguiente forma\n",
    "\n",
    "**numpy.array([dato1,datos,2,etc])**\n",
    "\n",
    "A groso modo comparte las mismas características que una lista pero veremos que hay algorítmos y métodos que sólo aceptan datos tipo *array* y no *list*.\n",
    "\n",
    "Veremos ejemplos más adelante, para ello importaremos primero la librería correspondiente bajo el apodo **np**"
   ]
  },
  {
   "cell_type": "code",
   "execution_count": 4,
   "metadata": {},
   "outputs": [
    {
     "name": "stdout",
     "output_type": "stream",
     "text": [
      "Requirement already satisfied: numpy in /srv/conda/envs/notebook/lib/python3.7/site-packages (1.19.1)\r\n"
     ]
    }
   ],
   "source": [
    "!pip install numpy # Descargar el módulo en caso de no tenerlo"
   ]
  },
  {
   "cell_type": "code",
   "execution_count": 1,
   "metadata": {},
   "outputs": [],
   "source": [
    "import numpy as np"
   ]
  },
  {
   "cell_type": "markdown",
   "metadata": {},
   "source": [
    "Creemos un array de tamaño $1x3$"
   ]
  },
  {
   "cell_type": "code",
   "execution_count": 2,
   "metadata": {},
   "outputs": [
    {
     "name": "stdout",
     "output_type": "stream",
     "text": [
      "Nuestro array es [1 2 3] y su tipo: <class 'numpy.ndarray'>\n"
     ]
    }
   ],
   "source": [
    "a1 = np.array([1,2,3])\n",
    "print(\"Nuestro array es \" + str(a1) + \" y su tipo: \" + str(type(a1)))"
   ]
  },
  {
   "cell_type": "markdown",
   "metadata": {},
   "source": [
    "Como se aprecia, es un tipo de dato diferente. \n",
    "\n",
    "A diferencia de las listas, los *arrays* no pueden contener entradas de distintos tipos de datos, si se le instroducen distintos datos, dependiendo del caso, los convertirá a todos a cierto tipo de dato"
   ]
  },
  {
   "cell_type": "code",
   "execution_count": 10,
   "metadata": {},
   "outputs": [
    {
     "name": "stdout",
     "output_type": "stream",
     "text": [
      "Nuestro array es [1 1] y sus tipos: <class 'numpy.int32'><class 'numpy.int32'>\n",
      "Nuestro array es ['1' 'True'] y sus tipos: <class 'numpy.str_'><class 'numpy.str_'>\n",
      "Nuestro array es [1.  2.3] y sus tipos: <class 'numpy.float64'><class 'numpy.float64'>\n"
     ]
    }
   ],
   "source": [
    "a2 = np.array([1,True])\n",
    "print(\"Nuestro array es \" + str(a2) + \" y sus tipos: \" + str(type(a2[0])) + str(type(a2[1])))\n",
    "a3 = np.array([1,\"True\"])\n",
    "print(\"Nuestro array es \" + str(a3) + \" y sus tipos: \" + str(type(a3[0])) + str(type(a3[1])))\n",
    "a4 = np.array([1,2.3])\n",
    "print(\"Nuestro array es \" + str(a4) + \" y sus tipos: \" + str(type(a4[0])) + str(type(a4[1])))"
   ]
  },
  {
   "cell_type": "markdown",
   "metadata": {},
   "source": [
    "Podemos accesar a su elementos de la manera que ya conocemos"
   ]
  },
  {
   "cell_type": "code",
   "execution_count": 55,
   "metadata": {},
   "outputs": [
    {
     "name": "stdout",
     "output_type": "stream",
     "text": [
      "1\n",
      "1\n",
      "True\n",
      "2.3\n"
     ]
    }
   ],
   "source": [
    "print(a2[0])\n",
    "print(a3[0])\n",
    "print(a3[1])\n",
    "print(a4[1])"
   ]
  },
  {
   "cell_type": "markdown",
   "metadata": {},
   "source": [
    "### Vectores\n",
    "\n",
    "Ahora para crear vectores renglones y columnas tenemos que seguir la siguiente sintaxis, resp:\n",
    "\n",
    "- **Renglón**"
   ]
  },
  {
   "cell_type": "code",
   "execution_count": 12,
   "metadata": {},
   "outputs": [
    {
     "name": "stdout",
     "output_type": "stream",
     "text": [
      "[[1 2 3]]\n"
     ]
    }
   ],
   "source": [
    "vec_ren_1 = np.array([[1,2,3]])\n",
    "print(vec_ren_1)"
   ]
  },
  {
   "cell_type": "markdown",
   "metadata": {},
   "source": [
    "Existe una alternativa usando el método **reshape(n,m)** donde **n** es el número de renglones y **m** el número de columnas de las dimensiones de la matriz en la que acomodaremos el vector"
   ]
  },
  {
   "cell_type": "code",
   "execution_count": 15,
   "metadata": {},
   "outputs": [
    {
     "name": "stdout",
     "output_type": "stream",
     "text": [
      "[[1 2 3]]\n"
     ]
    }
   ],
   "source": [
    "aux_1 = np.array([1,2,3])\n",
    "vec_ren_2 = aux_1.reshape(1,3)\n",
    "print(vec_ren_2)"
   ]
  },
  {
   "cell_type": "markdown",
   "metadata": {},
   "source": [
    "- **Columna**"
   ]
  },
  {
   "cell_type": "code",
   "execution_count": 16,
   "metadata": {},
   "outputs": [
    {
     "name": "stdout",
     "output_type": "stream",
     "text": [
      "[[1]\n",
      " [2]\n",
      " [3]]\n"
     ]
    }
   ],
   "source": [
    "vec_col_1 = np.array([[1],\n",
    "                     [2],\n",
    "                     [3]])\n",
    "print(vec_col_1)"
   ]
  },
  {
   "cell_type": "code",
   "execution_count": 17,
   "metadata": {},
   "outputs": [
    {
     "name": "stdout",
     "output_type": "stream",
     "text": [
      "[[1]\n",
      " [2]\n",
      " [3]]\n"
     ]
    }
   ],
   "source": [
    "aux_2 = np.array([1,2,3])\n",
    "vec_col_2 = aux_2.reshape(3,1)\n",
    "print(vec_col_2)"
   ]
  },
  {
   "cell_type": "markdown",
   "metadata": {},
   "source": [
    "Si deseamos obtener la dimensión del vector, tenemos el método **shape()**"
   ]
  },
  {
   "cell_type": "code",
   "execution_count": 19,
   "metadata": {},
   "outputs": [
    {
     "name": "stdout",
     "output_type": "stream",
     "text": [
      "dim. de vec_ren_1 = (1, 3)\n",
      "dim. de vec_col_2 = (3, 1)\n"
     ]
    }
   ],
   "source": [
    "print(\"dim. de vec_ren_1 = \" + str(vec_ren_1.shape))\n",
    "print(\"dim. de vec_col_2 = \" + str(vec_col_2.shape))"
   ]
  },
  {
   "cell_type": "markdown",
   "metadata": {},
   "source": [
    "Para ver el tipo de elemento almacenado está **dtype**"
   ]
  },
  {
   "cell_type": "code",
   "execution_count": 20,
   "metadata": {},
   "outputs": [
    {
     "name": "stdout",
     "output_type": "stream",
     "text": [
      "Datos almacenados en vec_col_2: int32\n"
     ]
    }
   ],
   "source": [
    "print(\"Datos almacenados en vec_col_2: \" + str(vec_col_2.dtype))"
   ]
  },
  {
   "cell_type": "markdown",
   "metadata": {},
   "source": [
    "Usaremos el método **T** para transponer el segundo vector columna"
   ]
  },
  {
   "cell_type": "code",
   "execution_count": 45,
   "metadata": {},
   "outputs": [
    {
     "data": {
      "text/plain": [
       "array([[1, 2, 3]])"
      ]
     },
     "execution_count": 45,
     "metadata": {},
     "output_type": "execute_result"
    }
   ],
   "source": [
    "vec_col_2.T"
   ]
  },
  {
   "cell_type": "markdown",
   "metadata": {},
   "source": [
    "### Operaciones Vectoriales\n",
    "\n",
    "- **Producto escalar**\n",
    "\n",
    "Tomemos al escalar $a=2.5$ y a los vectores *vec_ren_1* y *vec_ren_2*"
   ]
  },
  {
   "cell_type": "code",
   "execution_count": 33,
   "metadata": {},
   "outputs": [
    {
     "name": "stdout",
     "output_type": "stream",
     "text": [
      "[[2.5 5.  7.5]]\n",
      "\n",
      "[[2.5]\n",
      " [5. ]\n",
      " [7.5]]\n"
     ]
    }
   ],
   "source": [
    "a = 2.5\n",
    "pe_1 = a*vec_ren_1\n",
    "print(pe_1)\n",
    "print(\"\")\n",
    "pe_2 = a*vec_col_2\n",
    "print(pe_2)"
   ]
  },
  {
   "cell_type": "markdown",
   "metadata": {},
   "source": [
    "- **Sumar o resar vectores**\n",
    "\n",
    "Declararemos otros vectores para esto"
   ]
  },
  {
   "cell_type": "code",
   "execution_count": 37,
   "metadata": {},
   "outputs": [
    {
     "name": "stdout",
     "output_type": "stream",
     "text": [
      "[[5.3 5.  1.5]]\n"
     ]
    }
   ],
   "source": [
    "vec_ren_3 = np.array([[5.3,5,1.5]])\n",
    "print(vec_ren_3)"
   ]
  },
  {
   "cell_type": "markdown",
   "metadata": {},
   "source": [
    "**Suma:**"
   ]
  },
  {
   "cell_type": "code",
   "execution_count": 38,
   "metadata": {},
   "outputs": [
    {
     "name": "stdout",
     "output_type": "stream",
     "text": [
      "[[6.3 7.  4.5]]\n"
     ]
    }
   ],
   "source": [
    "sum_vec = vec_ren_2 + vec_ren_3\n",
    "print(sum_vec)"
   ]
  },
  {
   "cell_type": "markdown",
   "metadata": {},
   "source": [
    "**Resta:**"
   ]
  },
  {
   "cell_type": "code",
   "execution_count": 41,
   "metadata": {},
   "outputs": [
    {
     "name": "stdout",
     "output_type": "stream",
     "text": [
      "[[ 4.3  3.  -1.5]]\n"
     ]
    }
   ],
   "source": [
    "res_vec = vec_ren_3 - vec_ren_2\n",
    "print(res_vec)"
   ]
  },
  {
   "cell_type": "markdown",
   "metadata": {},
   "source": [
    "- **Prodcuto punto:**\n",
    "\n",
    "Usaremos el método **T** para transponer el segundo vector renglón para este producto punto o producto escalar canónico de $R^{3}$"
   ]
  },
  {
   "cell_type": "code",
   "execution_count": 49,
   "metadata": {},
   "outputs": [
    {
     "data": {
      "text/plain": [
       "array([[14]])"
      ]
     },
     "execution_count": 49,
     "metadata": {},
     "output_type": "execute_result"
    }
   ],
   "source": [
    "vec_ren_2.dot(vec_ren_2.T) # Norma"
   ]
  },
  {
   "cell_type": "code",
   "execution_count": 50,
   "metadata": {},
   "outputs": [
    {
     "data": {
      "text/plain": [
       "array([[19.8]])"
      ]
     },
     "execution_count": 50,
     "metadata": {},
     "output_type": "execute_result"
    }
   ],
   "source": [
    "vec_ren_2.dot(vec_ren_3.T)"
   ]
  },
  {
   "cell_type": "code",
   "execution_count": 51,
   "metadata": {},
   "outputs": [
    {
     "data": {
      "text/plain": [
       "array([[14]])"
      ]
     },
     "execution_count": 51,
     "metadata": {},
     "output_type": "execute_result"
    }
   ],
   "source": [
    "vec_ren_2.dot(vec_col_2)"
   ]
  },
  {
   "cell_type": "markdown",
   "metadata": {},
   "source": [
    "- **Prodcuto matricial:**"
   ]
  },
  {
   "cell_type": "code",
   "execution_count": 53,
   "metadata": {},
   "outputs": [
    {
     "data": {
      "text/plain": [
       "array([[14]])"
      ]
     },
     "execution_count": 53,
     "metadata": {},
     "output_type": "execute_result"
    }
   ],
   "source": [
    "vec_ren_2@vec_col_2"
   ]
  },
  {
   "cell_type": "code",
   "execution_count": 54,
   "metadata": {},
   "outputs": [
    {
     "data": {
      "text/plain": [
       "array([[1, 2, 3],\n",
       "       [2, 4, 6],\n",
       "       [3, 6, 9]])"
      ]
     },
     "execution_count": 54,
     "metadata": {},
     "output_type": "execute_result"
    }
   ],
   "source": [
    "\n",
    "vec_col_2@vec_ren_2"
   ]
  },
  {
   "cell_type": "markdown",
   "metadata": {},
   "source": [
    "### Matrices\n",
    "\n",
    "Para crear matrices es análogo a los vectores e incluso intruitivo"
   ]
  },
  {
   "cell_type": "code",
   "execution_count": 59,
   "metadata": {},
   "outputs": [
    {
     "name": "stdout",
     "output_type": "stream",
     "text": [
      "[[1 2 3]\n",
      " [4 5 6]\n",
      " [7 8 9]]\n",
      "Dimensión = (3, 3)\n"
     ]
    }
   ],
   "source": [
    "Mat_1 = np.array([[1, 2, 3],\n",
    "                  [4, 5, 6],\n",
    "                  [7,8,9]])\n",
    "print(Mat_1)\n",
    "print(\"Dimensión = \" + str(Mat_1.shape))"
   ]
  },
  {
   "cell_type": "markdown",
   "metadata": {},
   "source": [
    "Accedamos a sus distintas entradas"
   ]
  },
  {
   "cell_type": "code",
   "execution_count": 27,
   "metadata": {},
   "outputs": [
    {
     "name": "stdout",
     "output_type": "stream",
     "text": [
      "M(1,1) = 1\n",
      "M(2,3) = 6\n"
     ]
    }
   ],
   "source": [
    "print(\"M(1,1) = \" + str(Mat_1[0][0])\n",
    "     + \"\\nM(2,3) = \" + str(Mat_1[1][2]))"
   ]
  },
  {
   "cell_type": "code",
   "execution_count": 60,
   "metadata": {},
   "outputs": [
    {
     "name": "stdout",
     "output_type": "stream",
     "text": [
      "Columna 1: [1 4 7]\n",
      "Columna 2: [2 5 8]\n",
      "Renglón 1: [1 2 3]\n"
     ]
    }
   ],
   "source": [
    "print('Columna 1:', Mat_1[:,0])\n",
    "print('Columna 2:', Mat_1[:,1])\n",
    "print('Renglón 1:', Mat_1[0,:])"
   ]
  },
  {
   "cell_type": "markdown",
   "metadata": {},
   "source": [
    "### Operaciones matriciales\n",
    "\n",
    "- **Producto escalar:**"
   ]
  },
  {
   "cell_type": "code",
   "execution_count": 56,
   "metadata": {},
   "outputs": [],
   "source": [
    "b = 2.5\n",
    "Mat_2 = np.array([[3,6,7],\n",
    "                 [12,0,4],\n",
    "                 [0,1,0]])"
   ]
  },
  {
   "cell_type": "code",
   "execution_count": 57,
   "metadata": {},
   "outputs": [
    {
     "data": {
      "text/plain": [
       "array([[ 7.5, 15. , 17.5],\n",
       "       [30. ,  0. , 10. ],\n",
       "       [ 0. ,  2.5,  0. ]])"
      ]
     },
     "execution_count": 57,
     "metadata": {},
     "output_type": "execute_result"
    }
   ],
   "source": [
    "b*Mat_2"
   ]
  },
  {
   "cell_type": "markdown",
   "metadata": {},
   "source": [
    "- **Suma y resta**"
   ]
  },
  {
   "cell_type": "code",
   "execution_count": 61,
   "metadata": {},
   "outputs": [
    {
     "data": {
      "text/plain": [
       "array([[ 4,  8, 10],\n",
       "       [16,  5, 10],\n",
       "       [ 7,  9,  9]])"
      ]
     },
     "execution_count": 61,
     "metadata": {},
     "output_type": "execute_result"
    }
   ],
   "source": [
    "Mat_1 + Mat_2"
   ]
  },
  {
   "cell_type": "code",
   "execution_count": 62,
   "metadata": {},
   "outputs": [
    {
     "data": {
      "text/plain": [
       "array([[-2, -4, -4],\n",
       "       [-8,  5,  2],\n",
       "       [ 7,  7,  9]])"
      ]
     },
     "execution_count": 62,
     "metadata": {},
     "output_type": "execute_result"
    }
   ],
   "source": [
    "Mat_1 - Mat_2"
   ]
  },
  {
   "cell_type": "markdown",
   "metadata": {},
   "source": [
    "- **Producto matricial:**"
   ]
  },
  {
   "cell_type": "code",
   "execution_count": 64,
   "metadata": {},
   "outputs": [
    {
     "data": {
      "text/plain": [
       "array([[ 27,   9,  15],\n",
       "       [ 72,  30,  48],\n",
       "       [117,  51,  81]])"
      ]
     },
     "execution_count": 64,
     "metadata": {},
     "output_type": "execute_result"
    }
   ],
   "source": [
    "Mat_1@Mat_2"
   ]
  },
  {
   "cell_type": "code",
   "execution_count": 65,
   "metadata": {},
   "outputs": [
    {
     "data": {
      "text/plain": [
       "array([[ 76,  92, 108],\n",
       "       [ 40,  56,  72],\n",
       "       [  4,   5,   6]])"
      ]
     },
     "execution_count": 65,
     "metadata": {},
     "output_type": "execute_result"
    }
   ],
   "source": [
    "Mat_2@Mat_1"
   ]
  },
  {
   "cell_type": "markdown",
   "metadata": {},
   "source": [
    "- **Producto Matriz vector**\n",
    "\n",
    "Con un vector renglón, se toma este y se mutiplica entrada por entrada a cada renglón de la matriz y de manera intuitiva, con un vector columna, este vector se multiplciará cada entrada por columna de la matriz. Para ejemplificar esto, veamos los siguientes ejemplos"
   ]
  },
  {
   "cell_type": "code",
   "execution_count": 67,
   "metadata": {},
   "outputs": [
    {
     "data": {
      "text/plain": [
       "array([[ 1,  4,  9],\n",
       "       [ 4, 10, 18],\n",
       "       [ 7, 16, 27]])"
      ]
     },
     "execution_count": 67,
     "metadata": {},
     "output_type": "execute_result"
    }
   ],
   "source": [
    "Mat_1*vec_ren_2"
   ]
  },
  {
   "cell_type": "code",
   "execution_count": 68,
   "metadata": {},
   "outputs": [
    {
     "data": {
      "text/plain": [
       "array([[ 1,  2,  3],\n",
       "       [ 8, 10, 12],\n",
       "       [21, 24, 27]])"
      ]
     },
     "execution_count": 68,
     "metadata": {},
     "output_type": "execute_result"
    }
   ],
   "source": [
    "Mat_1*vec_col_2"
   ]
  }
 ],
 "metadata": {
  "kernelspec": {
   "display_name": "Python 3",
   "language": "python",
   "name": "python3"
  },
  "language_info": {
   "codemirror_mode": {
    "name": "ipython",
    "version": 3
   },
   "file_extension": ".py",
   "mimetype": "text/x-python",
   "name": "python",
   "nbconvert_exporter": "python",
   "pygments_lexer": "ipython3",
   "version": "3.8.3"
  }
 },
 "nbformat": 4,
 "nbformat_minor": 4
}
