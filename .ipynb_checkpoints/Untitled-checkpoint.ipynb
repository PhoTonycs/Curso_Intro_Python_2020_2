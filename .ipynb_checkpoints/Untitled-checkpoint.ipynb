{
 "cells": [
  {
   "cell_type": "markdown",
   "metadata": {},
   "source": [
    "### Ecuaciones lineales\n",
    "\n",
    "De álgebra lineal sabemos que existen tres tipos de sistemas de ecuaciones:\n",
    "\n",
    "- Los que tienen una única solución (No singular).\n",
    "- Los que no tienen solución (Singular).\n",
    "- Los que tienen infinitas soluciones (Dependientes).\n",
    "\n",
    "Para hallar las soluciones de estos sistemas (en caso de existir) "
   ]
  }
 ],
 "metadata": {
  "kernelspec": {
   "display_name": "Python 3",
   "language": "python",
   "name": "python3"
  },
  "language_info": {
   "codemirror_mode": {
    "name": "ipython",
    "version": 3
   },
   "file_extension": ".py",
   "mimetype": "text/x-python",
   "name": "python",
   "nbconvert_exporter": "python",
   "pygments_lexer": "ipython3",
   "version": "3.7.8"
  }
 },
 "nbformat": 4,
 "nbformat_minor": 4
}
