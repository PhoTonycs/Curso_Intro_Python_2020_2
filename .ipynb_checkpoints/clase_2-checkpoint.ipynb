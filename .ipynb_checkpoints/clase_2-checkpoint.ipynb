{
 "cells": [
  {
   "cell_type": "markdown",
   "metadata": {},
   "source": [
    "# Clase 2\n",
    "\n",
    "En esta clase veremos los comando básicos para actualizar repositorios de Github usando comandos bash o git. Para esto abriremos una terminal desde **Jupyter Notebook** y tomaremos en cuenta los siguietes comandos que tendrán que ser ejecutados en el orden que se muestra:\n",
    "\n",
    "- **bash**: Se escribe para indicar que ejecutaremos lenguaje git.\n",
    "- **git config --global user.email \"email@dominio.com\"**: Indicamos el correo asociados a nuestra cuenta de **Github** para que nos reconozca cuando hagamos los cambios.\n",
    "- **git config --global user.name \"apodo\"**: Este apodo no es el mismo que está asociado a nuestra cuenta de **Github**.\n",
    "- **git status**: Sirve para ver qué archivos han sido añadidos o no para hacer los cambios en el commit.\n",
    "- **git add .**: Añade todos los cambios hechos desde el último **commit**.\n",
    "- **git commit -m \"texto\"**: Creamos un punto de guardado.\n",
    "- **git push origin master**: Envía todos los cambios a nuestro repositorio.\n",
    "\n",
    "El último paso pedirá nuestro a podo o nombre de usuario  y contraseña para indentificarmos. Si se es el propetario del repositorio, veremos que los cambios se hacen de inmediato."
   ]
  }
 ],
 "metadata": {
  "kernelspec": {
   "display_name": "Python 3",
   "language": "python",
   "name": "python3"
  },
  "language_info": {
   "codemirror_mode": {
    "name": "ipython",
    "version": 3
   },
   "file_extension": ".py",
   "mimetype": "text/x-python",
   "name": "python",
   "nbconvert_exporter": "python",
   "pygments_lexer": "ipython3",
   "version": "3.7.8"
  }
 },
 "nbformat": 4,
 "nbformat_minor": 4
}
