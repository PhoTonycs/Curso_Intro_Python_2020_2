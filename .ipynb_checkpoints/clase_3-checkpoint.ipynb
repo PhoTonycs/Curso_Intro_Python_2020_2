{
 "cells": [
  {
   "cell_type": "markdown",
   "metadata": {},
   "source": [
    "### Booleano\n",
    "\n",
    "Este tipo de dato, análogo a la base boleana, sólo tiene dos valores posibles:\n",
    "\n",
    "- **True**\n",
    "- **False**\n",
    "\n",
    "donde se hace referencia a que **True = 1 & False = 0**.\n",
    "Cuando aplicamos una operación lógica tendremos que el valor que puede tomar es alguno de los dos valores anteriores.\n",
    "\n",
    "Los operadores lógicos o relacionales con los que están relacionados estos tipos de datos se pueden ver en la siguiente [tabla](https://entrenamiento-python-basico.readthedocs.io/es/latest/apendices/operadores.html)"
   ]
  },
  {
   "cell_type": "markdown",
   "metadata": {},
   "source": [
    "<div class=\"wy-table-responsive\"><table border=\"1\" class=\"docutils\">\n",
    "<colgroup>\n",
    "<col width=\"26%\">\n",
    "<col width=\"45%\">\n",
    "<col width=\"29%\">\n",
    "</colgroup>\n",
    "<tbody valign=\"top\">\n",
    "<tr class=\"row-odd\"><td><strong>Operador</strong></td>\n",
    "<td><strong>Descripción</strong></td>\n",
    "<td><strong>Ejemplo</strong></td>\n",
    "</tr>\n",
    "<tr class=\"row-even\"><td>==</td>\n",
    "<td>¿son iguales a y b?</td>\n",
    "<td><div class=\"first last highlight-python\"><div class=\"highlight\"><pre><span class=\"gp\">&gt;&gt;&gt; </span><span class=\"mi\">5</span> <span class=\"o\">==</span> <span class=\"mi\">3</span>\n",
    "<span class=\"go\">False</span>\n",
    "</pre></div>\n",
    "</div>\n",
    "</td>\n",
    "</tr>\n",
    "<tr class=\"row-odd\"><td>!=</td>\n",
    "<td>¿son distintos a y b?</td>\n",
    "<td><div class=\"first last highlight-python\"><div class=\"highlight\"><pre><span class=\"gp\">&gt;&gt;&gt; </span><span class=\"mi\">5</span> <span class=\"o\">!=</span> <span class=\"mi\">3</span>\n",
    "<span class=\"go\">True</span>\n",
    "</pre></div>\n",
    "</div>\n",
    "</td>\n",
    "</tr>\n",
    "<tr class=\"row-even\"><td>&lt;</td>\n",
    "<td>¿es a menor que b?</td>\n",
    "<td><div class=\"first last highlight-python\"><div class=\"highlight\"><pre><span class=\"gp\">&gt;&gt;&gt; </span><span class=\"mi\">5</span> <span class=\"o\">&lt;</span> <span class=\"mi\">3</span>\n",
    "<span class=\"go\">False</span>\n",
    "</pre></div>\n",
    "</div>\n",
    "</td>\n",
    "</tr>\n",
    "<tr class=\"row-odd\"><td>&gt;</td>\n",
    "<td>¿es a mayor que b?</td>\n",
    "<td><div class=\"first last highlight-python\"><div class=\"highlight\"><pre><span class=\"gp\">&gt;&gt;&gt; </span><span class=\"mi\">5</span> <span class=\"o\">&gt;</span> <span class=\"mi\">3</span>\n",
    "<span class=\"go\">True</span>\n",
    "</pre></div>\n",
    "</div>\n",
    "</td>\n",
    "</tr>\n",
    "<tr class=\"row-even\"><td>&lt;=</td>\n",
    "<td>¿es a menor o igual que b?</td>\n",
    "<td><div class=\"first last highlight-python\"><div class=\"highlight\"><pre><span class=\"gp\">&gt;&gt;&gt; </span><span class=\"mi\">5</span> <span class=\"o\">&lt;=</span> <span class=\"mi\">5</span>\n",
    "<span class=\"go\">True</span>\n",
    "</pre></div>\n",
    "</div>\n",
    "</td>\n",
    "</tr>\n",
    "<tr class=\"row-odd\"><td>&gt;=</td>\n",
    "<td>¿es a mayor o igual que b?</td>\n",
    "<td><div class=\"first last highlight-python\"><div class=\"highlight\"><pre><span class=\"gp\">&gt;&gt;&gt; </span><span class=\"mi\">5</span> <span class=\"o\">&gt;=</span> <span class=\"mi\">3</span>\n",
    "<span class=\"go\">True</span>\n",
    "</pre></div>\n",
    "</div>\n",
    "</td>\n",
    "</tr>\n",
    "</tbody>\n",
    "</table></div>"
   ]
  },
  {
   "cell_type": "markdown",
   "metadata": {},
   "source": [
    "Este tipo de dato lo tendremos presente cuando filtremos datos en un **dataframe**"
   ]
  },
  {
   "cell_type": "code",
   "execution_count": 1,
   "metadata": {},
   "outputs": [
    {
     "name": "stdout",
     "output_type": "stream",
     "text": [
      "False\n",
      "True\n"
     ]
    }
   ],
   "source": [
    "print(5==3)\n",
    "print(5!=3)"
   ]
  },
  {
   "cell_type": "markdown",
   "metadata": {},
   "source": [
    "También podemos almacenar las condiciones como variables"
   ]
  },
  {
   "cell_type": "code",
   "execution_count": 2,
   "metadata": {},
   "outputs": [],
   "source": [
    "a = True\n",
    "b = False\n",
    "c = 5!=3\n",
    "d = 5==3"
   ]
  },
  {
   "cell_type": "markdown",
   "metadata": {},
   "source": [
    "Y podemos ver si satisfacen ciertas condiciones lógicas"
   ]
  },
  {
   "cell_type": "code",
   "execution_count": 4,
   "metadata": {},
   "outputs": [
    {
     "data": {
      "text/plain": [
       "False"
      ]
     },
     "execution_count": 4,
     "metadata": {},
     "output_type": "execute_result"
    }
   ],
   "source": [
    "a and b"
   ]
  },
  {
   "cell_type": "code",
   "execution_count": 7,
   "metadata": {},
   "outputs": [
    {
     "data": {
      "text/plain": [
       "True"
      ]
     },
     "execution_count": 7,
     "metadata": {},
     "output_type": "execute_result"
    }
   ],
   "source": [
    "c or d"
   ]
  },
  {
   "cell_type": "code",
   "execution_count": 8,
   "metadata": {},
   "outputs": [
    {
     "data": {
      "text/plain": [
       "True"
      ]
     },
     "execution_count": 8,
     "metadata": {},
     "output_type": "execute_result"
    }
   ],
   "source": [
    "a != d"
   ]
  },
  {
   "cell_type": "code",
   "execution_count": 11,
   "metadata": {},
   "outputs": [
    {
     "data": {
      "text/plain": [
       "False"
      ]
     },
     "execution_count": 11,
     "metadata": {},
     "output_type": "execute_result"
    }
   ],
   "source": [
    "a == d"
   ]
  },
  {
   "cell_type": "markdown",
   "metadata": {},
   "source": [
    "Notemos que por lo anterrior mencionado **True** > **False** puesto que 1 > 0:"
   ]
  },
  {
   "cell_type": "code",
   "execution_count": 12,
   "metadata": {},
   "outputs": [
    {
     "data": {
      "text/plain": [
       "True"
      ]
     },
     "execution_count": 12,
     "metadata": {},
     "output_type": "execute_result"
    }
   ],
   "source": [
    "a > b"
   ]
  },
  {
   "cell_type": "code",
   "execution_count": 13,
   "metadata": {},
   "outputs": [
    {
     "data": {
      "text/plain": [
       "False"
      ]
     },
     "execution_count": 13,
     "metadata": {},
     "output_type": "execute_result"
    }
   ],
   "source": [
    "a < b"
   ]
  },
  {
   "cell_type": "markdown",
   "metadata": {},
   "source": [
    "Notemos que el tipo de dato que **Python** retorna es bool"
   ]
  },
  {
   "cell_type": "code",
   "execution_count": 18,
   "metadata": {},
   "outputs": [
    {
     "name": "stdout",
     "output_type": "stream",
     "text": [
      "<class 'bool'>\n",
      "<class 'bool'>\n"
     ]
    }
   ],
   "source": [
    "print(type(a))\n",
    "print(type(b))"
   ]
  },
  {
   "cell_type": "markdown",
   "metadata": {},
   "source": [
    "### Listas\n",
    "\n",
    "Es un arreglo unidimensional que puede contener cualquier tipo de dato como elemento, para declararla se ponen dos corchetes y dentro sus elementos separados por una coma\n",
    "La sintaxis es la siguiente\n",
    "\n",
    "**lista = [elem1,elem2,...]**\n",
    "\n",
    "Los elementos de la lista (elem1, elem2, ...) no tienen que todos del mismo tipo de datos como veremos ahorita"
   ]
  },
  {
   "cell_type": "code",
   "execution_count": 19,
   "metadata": {},
   "outputs": [],
   "source": [
    "l1 = [2,3.0,\"string\",True]"
   ]
  },
  {
   "cell_type": "code",
   "execution_count": 16,
   "metadata": {},
   "outputs": [
    {
     "data": {
      "text/plain": [
       "list"
      ]
     },
     "execution_count": 16,
     "metadata": {},
     "output_type": "execute_result"
    }
   ],
   "source": [
    "type(l1)"
   ]
  },
  {
   "cell_type": "markdown",
   "metadata": {},
   "source": [
    "Las listas también pueden contener listas"
   ]
  },
  {
   "cell_type": "code",
   "execution_count": 50,
   "metadata": {},
   "outputs": [
    {
     "data": {
      "text/plain": [
       "list"
      ]
     },
     "execution_count": 50,
     "metadata": {},
     "output_type": "execute_result"
    }
   ],
   "source": [
    "l2 = [2.3,\"a\",[2.3,',',False]]\n",
    "type(l2)"
   ]
  },
  {
   "cell_type": "markdown",
   "metadata": {},
   "source": [
    "Vemaos que los elementos no son tipo lista"
   ]
  },
  {
   "cell_type": "code",
   "execution_count": 25,
   "metadata": {},
   "outputs": [
    {
     "name": "stdout",
     "output_type": "stream",
     "text": [
      "<class 'int'>\n",
      "<class 'float'>\n",
      "<class 'str'>\n",
      "<class 'bool'>\n"
     ]
    }
   ],
   "source": [
    "print(type(l1[0]))\n",
    "print(type(l1[1]))\n",
    "print(type(l1[2]))\n",
    "print(type(l1[3]))"
   ]
  },
  {
   "cell_type": "code",
   "execution_count": 29,
   "metadata": {},
   "outputs": [
    {
     "name": "stdout",
     "output_type": "stream",
     "text": [
      "<class 'float'>\n",
      "<class 'str'>\n",
      "<class 'float'>\n",
      "<class 'str'>\n",
      "<class 'bool'>\n"
     ]
    }
   ],
   "source": [
    "print(type(l2[0]))\n",
    "print(type(l2[1]))\n",
    "print(type(l2[2][0]))\n",
    "print(type(l2[2][1]))\n",
    "print(type(l2[2][2]))"
   ]
  },
  {
   "cell_type": "markdown",
   "metadata": {},
   "source": [
    "Igual podemos hacer **slicing**"
   ]
  },
  {
   "cell_type": "code",
   "execution_count": 31,
   "metadata": {},
   "outputs": [
    {
     "name": "stdout",
     "output_type": "stream",
     "text": [
      "[3.0, True]\n",
      "[2.3, 'a', [2.3, ',', False]]\n"
     ]
    }
   ],
   "source": [
    "print(l1[1::2])\n",
    "print(l2[:3])"
   ]
  },
  {
   "cell_type": "markdown",
   "metadata": {},
   "source": [
    "Podemos modificar o mutar el valor de sus entradas"
   ]
  },
  {
   "cell_type": "code",
   "execution_count": 32,
   "metadata": {},
   "outputs": [
    {
     "name": "stdout",
     "output_type": "stream",
     "text": [
      "[2, 3.0, 'string', True]\n",
      "['funado', 3.0, 'string', True]\n"
     ]
    }
   ],
   "source": [
    "print(l1)\n",
    "l1[0] = \"funado\"\n",
    "print(l1)"
   ]
  },
  {
   "cell_type": "code",
   "execution_count": 51,
   "metadata": {},
   "outputs": [
    {
     "name": "stdout",
     "output_type": "stream",
     "text": [
      "[2.3, 'a', [2.3, ',', False]]\n",
      "[1, 'a', ['haha', ',', False]]\n"
     ]
    }
   ],
   "source": [
    "print(l2)\n",
    "l2[2][0] = 'haha'\n",
    "l2[0] = 1\n",
    "print(l2)"
   ]
  },
  {
   "cell_type": "markdown",
   "metadata": {},
   "source": [
    "Apliquemos distintos métodos a nuestras listas **l1** y **l2**:\n",
    "\n",
    "- **Longitud de la lista**"
   ]
  },
  {
   "cell_type": "code",
   "execution_count": 34,
   "metadata": {},
   "outputs": [
    {
     "name": "stdout",
     "output_type": "stream",
     "text": [
      "4\n",
      "3\n"
     ]
    }
   ],
   "source": [
    "print(len(l1))\n",
    "print(len(l2[2]))"
   ]
  },
  {
   "cell_type": "markdown",
   "metadata": {},
   "source": [
    "- **Agregar elemento**"
   ]
  },
  {
   "cell_type": "code",
   "execution_count": 35,
   "metadata": {},
   "outputs": [
    {
     "name": "stdout",
     "output_type": "stream",
     "text": [
      "['funado', 3.0, 'string', True]\n",
      "Escriba lo que sea: k\n",
      "['funado', 3.0, 'string', True, 'k']\n"
     ]
    }
   ],
   "source": [
    "print(l1)\n",
    "l1.append(input(\"Escriba lo que sea: \"))\n",
    "print(l1)"
   ]
  },
  {
   "cell_type": "markdown",
   "metadata": {},
   "source": [
    "- **Añadir un elemento de acuerdo a un iterable**"
   ]
  },
  {
   "cell_type": "code",
   "execution_count": 40,
   "metadata": {},
   "outputs": [
    {
     "name": "stdout",
     "output_type": "stream",
     "text": [
      "['funado', 3.0, 'string', True, 'k', 2]\n"
     ]
    }
   ],
   "source": [
    "l1.extend([2])\n",
    "print(l1)"
   ]
  },
  {
   "cell_type": "code",
   "execution_count": 52,
   "metadata": {},
   "outputs": [
    {
     "name": "stdout",
     "output_type": "stream",
     "text": [
      "[1, 'a', ['haha', ',', False], 1, 2, 3, 4, 5]\n"
     ]
    }
   ],
   "source": [
    "l2.extend(range(1,6))\n",
    "print(l2)"
   ]
  },
  {
   "cell_type": "markdown",
   "metadata": {},
   "source": [
    "- **Contar el número de veces que un elemento aparece dentro de una lista**"
   ]
  },
  {
   "cell_type": "code",
   "execution_count": 54,
   "metadata": {},
   "outputs": [
    {
     "name": "stdout",
     "output_type": "stream",
     "text": [
      "2\n",
      "1\n"
     ]
    }
   ],
   "source": [
    "print(l2.count(1))\n",
    "print(l2.count('a'))"
   ]
  },
  {
   "cell_type": "markdown",
   "metadata": {},
   "source": [
    "- **Insertar un elemento en la posición k de la lista**"
   ]
  },
  {
   "cell_type": "code",
   "execution_count": 55,
   "metadata": {},
   "outputs": [
    {
     "name": "stdout",
     "output_type": "stream",
     "text": [
      "[1, 'a', ['haha', ',', False], 1, 2, 3, 4, 5]\n",
      "[1, 'Lutear', 'a', ['haha', ',', False], 1, 2, 3, 4, 5]\n"
     ]
    }
   ],
   "source": [
    "print(l2)\n",
    "l2.insert(1,'Lutear')\n",
    "print(l2)"
   ]
  },
  {
   "cell_type": "markdown",
   "metadata": {},
   "source": [
    "- **Remover un elemento de acuerdo a su índice**"
   ]
  },
  {
   "cell_type": "code",
   "execution_count": 56,
   "metadata": {},
   "outputs": [
    {
     "name": "stdout",
     "output_type": "stream",
     "text": [
      "['funado', 3.0, 'string', True, 'k', 2]\n",
      "['funado', 3.0, 'string', True, 'k']\n"
     ]
    }
   ],
   "source": [
    "print(l1)\n",
    "l1.remove(2)\n",
    "print(l1)"
   ]
  }
 ],
 "metadata": {
  "kernelspec": {
   "display_name": "Python 3",
   "language": "python",
   "name": "python3"
  },
  "language_info": {
   "codemirror_mode": {
    "name": "ipython",
    "version": 3
   },
   "file_extension": ".py",
   "mimetype": "text/x-python",
   "name": "python",
   "nbconvert_exporter": "python",
   "pygments_lexer": "ipython3",
   "version": "3.7.8"
  }
 },
 "nbformat": 4,
 "nbformat_minor": 4
}
