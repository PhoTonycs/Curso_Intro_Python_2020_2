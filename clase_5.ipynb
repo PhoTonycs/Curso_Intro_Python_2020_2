{
 "cells": [
  {
   "cell_type": "markdown",
   "metadata": {},
   "source": [
    "# Clase 5\n",
    "\n",
    "## Ecuaciones lineales\n",
    "\n",
    "De álgebra lineal sabemos que existen tres tipos de sistemas de ecuaciones:\n",
    "\n",
    "- Los que tienen una única solución (No singular).\n",
    "- Los que no tienen solución (Singular).\n",
    "- Los que tienen infinitas soluciones (Dependientes).\n",
    "\n",
    "Para hallar las soluciones de estos sistemas (en caso de existir) tenemos el método **linalg.solve(matrix_coef,matrix_sol)** del módulo de **numpy** donde\n",
    "\n",
    "- **matrix_coef** = matriz de coeficientes.\n",
    "- **matrix_sol** = matriz con la soluciones del sistema.\n",
    "\n",
    "Veamos un ejemplo con cada tipo de sistema.\n",
    "\n",
    "### No Singular\n",
    "\n",
    "Consideremos la siguiente matriz $2\\times 2$ de la forma $AX = B$ donde $A$ es la matriz de coeficiente, $X$ la matriz de las constantes a hallar y $B$ la matriz con las solcuiones\n",
    "\n",
    "$$\n",
    "\\begin{array}{ccc}\n",
    "a & b & = c \\\\\n",
    "d & e & f \\\\\n",
    "g & h & i \n",
    "\\end{array}\n",
    "$$"
   ]
  },
  {
   "cell_type": "code",
   "execution_count": null,
   "metadata": {},
   "outputs": [],
   "source": [
    "import numpy"
   ]
  },
  {
   "cell_type": "code",
   "execution_count": null,
   "metadata": {},
   "outputs": [],
   "source": [
    "A = np.array([[2, 7], \n",
    "              [5, -8]])\n",
    "b = np.array([1,-4])"
   ]
  },
  {
   "cell_type": "code",
   "execution_count": null,
   "metadata": {},
   "outputs": [],
   "source": []
  }
 ],
 "metadata": {
  "kernelspec": {
   "display_name": "Python 3",
   "language": "python",
   "name": "python3"
  },
  "language_info": {
   "codemirror_mode": {
    "name": "ipython",
    "version": 3
   },
   "file_extension": ".py",
   "mimetype": "text/x-python",
   "name": "python",
   "nbconvert_exporter": "python",
   "pygments_lexer": "ipython3",
   "version": "3.7.8"
  }
 },
 "nbformat": 4,
 "nbformat_minor": 4
}
