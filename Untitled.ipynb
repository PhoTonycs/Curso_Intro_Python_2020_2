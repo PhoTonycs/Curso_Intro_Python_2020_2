{
 "cells": [
  {
   "cell_type": "markdown",
   "metadata": {},
   "source": [
    "# Clase 5\n",
    "\n",
    "## Ecuaciones lineales\n",
    "\n",
    "De álgebra lineal sabemos que existen tres tipos de sistemas de ecuaciones:\n",
    "\n",
    "- Los que tienen una única solución (No singular).\n",
    "- Los que no tienen solución (Singular).\n",
    "- Los que tienen infinitas soluciones (Dependientes).\n",
    "\n",
    "Para hallar las soluciones de estos sistemas (en caso de existir) tenemos el método **linalg.solve(matrix_coef,matrix_sol)** del módulo de **numpy** donde\n",
    "\n",
    "- **matrix_coef** = matriz de coeficientes.\n",
    "- **matrix_sol** = matriz con la soluciones del sistema.\n",
    "\n",
    "Veamos un ejemplo con cada tipo de sistema.\n",
    "\n",
    "### No Singular\n",
    "\n",
    "Consideremos la siguiente matriz $2\\times 2$\n",
    "\n",
    "$$\n",
    "\n",
    "$$"
   ]
  }
 ],
 "metadata": {
  "kernelspec": {
   "display_name": "Python 3",
   "language": "python",
   "name": "python3"
  },
  "language_info": {
   "codemirror_mode": {
    "name": "ipython",
    "version": 3
   },
   "file_extension": ".py",
   "mimetype": "text/x-python",
   "name": "python",
   "nbconvert_exporter": "python",
   "pygments_lexer": "ipython3",
   "version": "3.7.8"
  }
 },
 "nbformat": 4,
 "nbformat_minor": 4
}
